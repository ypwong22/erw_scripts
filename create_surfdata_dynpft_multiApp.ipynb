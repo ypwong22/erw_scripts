{
 "cells": [
  {
   "cell_type": "code",
   "execution_count": 4,
   "metadata": {},
   "outputs": [],
   "source": [
    "# Test the dissolution during 1950-2023 with multiple applications\n",
    "# (1) every year during the first 20 years\n",
    "# (2) every 2 years during the first 20 years\n",
    "# (3) every 5 years during the first 20 years\n",
    "# (4) every 10 years during the first 20 years\n",
    "\n",
    "import os\n",
    "import xarray as xr\n",
    "import numpy as np\n",
    "import pandas as pd\n",
    "import itertools as it\n",
    "\n",
    "path_root = os.path.join(os.environ['E3SM_ROOT'], 'inputdata', 'lnd', 'clm2', 'surfdata_map')\n",
    "file_orig = os.path.join(path_root, 'landuse.timeseries_conus_erw_off_hist_simyr1850_c240712.nc')\n",
    "file_temp = os.path.join(path_root, 'landuse.conus_erw.temp.nc')\n",
    "\n",
    "# copy from the non-ERW file\n",
    "os.system(f\"cp {file_orig} {file_temp}\")\n",
    "\n",
    "hr = xr.open_dataset(file_temp)"
   ]
  },
  {
   "cell_type": "code",
   "execution_count": 5,
   "metadata": {},
   "outputs": [],
   "source": [
    "# Day of year: Jan 1 # 244 (Sep-1 in nonleap years)\n",
    "mpft = 17\n",
    "day_of_application = 1 # 244\n",
    "namendspec = 10\n",
    "year_list = np.arange(1850, 2016)\n",
    "\n",
    "# minerals_name = ['Wollastonite_CaSiO3', 'Forsterite_Mg2SiO4', 'Albite_NaAlSi3O8', \n",
    "#                 'Anorthite_CaAl2Si2O8', 'Epidote_Ca2FeAl2(SiO4)3(OH)', 'Calcite_CaCO3',\n",
    "#                 'Labradorite_Ca0.6Na0.4Al1.6Si2.4O8', 'Augite_Ca0.9Mg0.9Na0.1Al0.4Fe0.2Si1.9O6',\n",
    "#                 'Kfeldspar_KAlSi3O8', 'Enstatite_MgSiO3']\n",
    "# normal alkali basalt (fast)\n",
    "pct_basalt = np.array([0, 12, 0, 0, 0, 0, 43, 21, 6, 0])\n",
    "# normal tholeiitic basalt (slow)\n",
    "# pct_basalt = np.array([0, 0, 0, 0, 0, 0, 45, 34, 5, 3])\n",
    "\n",
    "# tuples = list(it.product(np.linspace(10, 1000, 10), np.linspace(2, 10, 10)))\n",
    "grain_size = 10\n",
    "app_rate = 4 # 4 kg m-2 => 40 ton ha-1"
   ]
  },
  {
   "cell_type": "code",
   "execution_count": 6,
   "metadata": {},
   "outputs": [],
   "source": [
    "# Please make sure each time step has valid values, because the streamfile reader\n",
    "# is updating every year!\n",
    "\n",
    "for p in range(4):\n",
    "\n",
    "    doy = np.full([len(hr['time']), mpft, len(hr['lsmlat']), len(hr['lsmlon'])],\n",
    "                    float(day_of_application))\n",
    "    hr['SOIL_AMENDMENTS_DOY'] = xr.DataArray(doy, \n",
    "        dims = ['time','mpft','lsmlat','lsmlon'],\n",
    "        attrs = {'long_name': 'soil amendment application day of year',\n",
    "                    'units': 'day of year'})\n",
    "\n",
    "    rate = np.zeros([len(hr['time']), mpft, len(hr['lsmlat']), len(hr['lsmlon'])])\n",
    "    if p == 0:\n",
    "        rate[(year_list >= 1950) & (year_list <= 1969), :, :, :] = app_rate\n",
    "    elif p == 1:\n",
    "        rate[(year_list >= 1950) & (year_list <= 1969) & (np.mod(year_list, 2) == 0), \n",
    "             :, :, :] = app_rate\n",
    "    elif p == 2:\n",
    "        rate[(year_list >= 1950) & (year_list <= 1969) & (np.mod(year_list, 5) == 0), \n",
    "             :, :, :] = app_rate\n",
    "    else:\n",
    "        rate[(year_list >= 1950) & (year_list <= 1969) & (np.mod(year_list, 10) == 0), \n",
    "             :, :, :] = app_rate\n",
    "    hr['SOIL_AMENDMENTS_RATE'] = xr.DataArray(rate, \n",
    "        dims = ['time','mpft','lsmlat','lsmlon'],\n",
    "        attrs = {'long_name': 'soil amendment application rate',\n",
    "                    'units': 'kg/m2/yr'})\n",
    "\n",
    "    size = np.full([len(hr['time']), len(hr['lsmlat']), len(hr['lsmlon'])], \n",
    "                    float(grain_size))\n",
    "    hr['SOIL_AMENDMENTS_GRAINSIZE'] = xr.DataArray(size, \n",
    "        dims = ['time','lsmlat','lsmlon'],\n",
    "        attrs = {'long_name': 'grain size of applied soil amendment',\n",
    "                    'units': 'micro meters'})\n",
    "\n",
    "    pct = np.full([len(hr['time']), namendspec, len(hr['lsmlat']), len(hr['lsmlon'])], np.nan)\n",
    "    pct[:, :, :, :] = pct_basalt.reshape(1, -1, 1, 1)\n",
    "    hr['SOIL_AMENDMENTS_PCT'] = xr.DataArray(pct, \n",
    "        dims = ['time','namendspec','lsmlat','lsmlon'],\n",
    "        attrs = {'long_name': 'species fraction of applied soil amendment',\n",
    "                    'units': 'percent'})\n",
    "\n",
    "    hr['namendspec'] = xr.DataArray(\n",
    "            np.arange(1, namendspec+1), dims = ['namendspec'],\n",
    "            attrs = {'long_name': 'indices of species in soil amendment mixture (e.g. rock powder)',\n",
    "                    'units': 'index'}\n",
    "    )\n",
    "\n",
    "    hr['mpft'] = xr.DataArray(\n",
    "            np.arange(1, mpft+1), dims = ['mpft'],\n",
    "            attrs = {'long_name': 'indices of natural PFTs and cfts, if any',\n",
    "                    'units': 'index'}\n",
    "    )\n",
    "\n",
    "    file_dest = os.path.join(path_root, 'erw_multiApp', f'landuse.timeseries_conus_erw_on_hist_simyr1850_c240712_multiApp_{p}.nc')\n",
    "\n",
    "    encoding = {}\n",
    "    for var in hr.data_vars:\n",
    "        if var in ['SOIL_AMENDMENTS_DOY', 'SOIL_AMENDMENTS_RATE', 'SOIL_AMENDMENTS_GRAINSIZE',\n",
    "                    'SOIL_AMENDMENTS_PCT']:\n",
    "            encoding[var] = {'_FillValue': 1e20}\n",
    "        else:\n",
    "            encoding[var] = {'_FillValue': None}\n",
    "\n",
    "    hr.to_netcdf(file_dest, encoding=encoding, format = 'NETCDF4_CLASSIC')"
   ]
  },
  {
   "cell_type": "code",
   "execution_count": 7,
   "metadata": {},
   "outputs": [
    {
     "data": {
      "text/plain": [
       "0"
      ]
     },
     "execution_count": 7,
     "metadata": {},
     "output_type": "execute_result"
    }
   ],
   "source": [
    "hr.close()\n",
    "\n",
    "os.system(f'rm {file_temp}')"
   ]
  }
 ],
 "metadata": {
  "kernelspec": {
   "display_name": "myCondaEnv",
   "language": "python",
   "name": "python3"
  },
  "language_info": {
   "codemirror_mode": {
    "name": "ipython",
    "version": 3
   },
   "file_extension": ".py",
   "mimetype": "text/x-python",
   "name": "python",
   "nbconvert_exporter": "python",
   "pygments_lexer": "ipython3",
   "version": "3.11.8"
  }
 },
 "nbformat": 4,
 "nbformat_minor": 2
}
