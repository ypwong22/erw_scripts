{
 "cells": [
  {
   "cell_type": "code",
   "execution_count": 1,
   "metadata": {},
   "outputs": [],
   "source": [
    "\"\"\" Use the vegetation survey data to calculate the percentage cover of plant functional types\"\"\"\n",
    "import pandas as pd\n",
    "import os\n",
    "import numpy as np\n",
    "\n",
    "path_root = os.getcwd()\n",
    "path_data = os.path.join(path_root, \"..\", \"data\", \"Hubbard Brook\")\n",
    "\n",
    "survey_files = {\n",
    "    1996: os.path.join(path_data, \"knb-lter-hbr.40.7\", \"w1_1996veg.txt\"), \n",
    "    2001: os.path.join(path_data, \"knb-lter-hbr.41.7\", \"w1_2001veg.txt\"), \n",
    "    2006: os.path.join(path_data, \"knb-lter-hbr.142.3\", \"w1_2006veg.txt\"),\n",
    "    2011: os.path.join(path_data, \"knb-lter-hbr.143.3\", \"w1_2011veg.txt\"),\n",
    "    2016: os.path.join(path_data, \"knb-lter-hbr.240.2\", \"w1_2016_vegInventory.csv\"),\n",
    "}"
   ]
  },
  {
   "cell_type": "code",
   "execution_count": 2,
   "metadata": {},
   "outputs": [],
   "source": [
    "basal_area_summary = {}\n",
    "\n",
    "for year in survey_files.keys():\n",
    "    data = pd.read_csv(survey_files[year])\n",
    "\n",
    "    # Dbh: cm, Basal area: m^2\n",
    "    data['Basal area'] = np.pi * (data['Dbh']/200)**2\n",
    "\n",
    "    # Get the PFTs\n",
    "    sp_to_pft = pd.read_excel(\"Hubbard Brook species to PFT table.xlsx\", sheet_name = \"Sheet1\")\n",
    "    abbr_to_pft = {a:int(b) for a,b in zip(sp_to_pft['Abbreviation'], sp_to_pft['PFT number']) if not np.isnan(b)}\n",
    "    data['PFT'] = data['Species'].map(abbr_to_pft)\n",
    "\n",
    "    def process_one_plot(df):\n",
    "        # Calculate the relative basal area of the various species, \n",
    "        # multiply by the area of the plot\n",
    "        tot_ba = df.groupby('PFT').sum()['Basal area']\n",
    "        rel_ba = tot_ba / tot_ba.sum()\n",
    "        scaled_ba = rel_ba * df['10Area'].iloc[0]\n",
    "        return scaled_ba\n",
    "\n",
    "    # Sum up the plots and rescale\n",
    "    tot_ba = data.groupby('Plot').apply(process_one_plot).groupby('PFT').sum()\n",
    "    rel_ba = tot_ba / tot_ba.sum() * 100.\n",
    "\n",
    "    basal_area_summary[year] = rel_ba\n",
    "basal_area_summary = pd.DataFrame(basal_area_summary)"
   ]
  },
  {
   "cell_type": "code",
   "execution_count": 3,
   "metadata": {},
   "outputs": [
    {
     "data": {
      "text/html": [
       "<div>\n",
       "<style scoped>\n",
       "    .dataframe tbody tr th:only-of-type {\n",
       "        vertical-align: middle;\n",
       "    }\n",
       "\n",
       "    .dataframe tbody tr th {\n",
       "        vertical-align: top;\n",
       "    }\n",
       "\n",
       "    .dataframe thead th {\n",
       "        text-align: right;\n",
       "    }\n",
       "</style>\n",
       "<table border=\"1\" class=\"dataframe\">\n",
       "  <thead>\n",
       "    <tr style=\"text-align: right;\">\n",
       "      <th></th>\n",
       "      <th>1996</th>\n",
       "      <th>2001</th>\n",
       "      <th>2006</th>\n",
       "      <th>2011</th>\n",
       "      <th>2016</th>\n",
       "    </tr>\n",
       "    <tr>\n",
       "      <th>PFT</th>\n",
       "      <th></th>\n",
       "      <th></th>\n",
       "      <th></th>\n",
       "      <th></th>\n",
       "      <th></th>\n",
       "    </tr>\n",
       "  </thead>\n",
       "  <tbody>\n",
       "    <tr>\n",
       "      <th>2.0</th>\n",
       "      <td>5.502716</td>\n",
       "      <td>6.105590</td>\n",
       "      <td>6.537898</td>\n",
       "      <td>7.239026</td>\n",
       "      <td>7.258774</td>\n",
       "    </tr>\n",
       "    <tr>\n",
       "      <th>7.0</th>\n",
       "      <td>90.727709</td>\n",
       "      <td>89.239103</td>\n",
       "      <td>90.023317</td>\n",
       "      <td>89.825016</td>\n",
       "      <td>90.631124</td>\n",
       "    </tr>\n",
       "    <tr>\n",
       "      <th>8.0</th>\n",
       "      <td>3.769576</td>\n",
       "      <td>4.652014</td>\n",
       "      <td>3.438785</td>\n",
       "      <td>2.935957</td>\n",
       "      <td>2.110102</td>\n",
       "    </tr>\n",
       "    <tr>\n",
       "      <th>10.0</th>\n",
       "      <td>NaN</td>\n",
       "      <td>0.003293</td>\n",
       "      <td>NaN</td>\n",
       "      <td>NaN</td>\n",
       "      <td>NaN</td>\n",
       "    </tr>\n",
       "  </tbody>\n",
       "</table>\n",
       "</div>"
      ],
      "text/plain": [
       "           1996       2001       2006       2011       2016\n",
       "PFT                                                        \n",
       "2.0    5.502716   6.105590   6.537898   7.239026   7.258774\n",
       "7.0   90.727709  89.239103  90.023317  89.825016  90.631124\n",
       "8.0    3.769576   4.652014   3.438785   2.935957   2.110102\n",
       "10.0        NaN   0.003293        NaN        NaN        NaN"
      ]
     },
     "execution_count": 3,
     "metadata": {},
     "output_type": "execute_result"
    }
   ],
   "source": [
    "basal_area_summary"
   ]
  },
  {
   "cell_type": "code",
   "execution_count": 7,
   "metadata": {},
   "outputs": [
    {
     "data": {
      "text/plain": [
       "PFT\n",
       "2.0      6.53\n",
       "7.0     90.09\n",
       "8.0      3.38\n",
       "10.0     0.00\n",
       "dtype: float64"
      ]
     },
     "execution_count": 7,
     "metadata": {},
     "output_type": "execute_result"
    }
   ],
   "source": [
    "basal_area_summary.mean(axis = 1).round(2)"
   ]
  }
 ],
 "metadata": {
  "kernelspec": {
   "display_name": "geo",
   "language": "python",
   "name": "python3"
  },
  "language_info": {
   "codemirror_mode": {
    "name": "ipython",
    "version": 3
   },
   "file_extension": ".py",
   "mimetype": "text/x-python",
   "name": "python",
   "nbconvert_exporter": "python",
   "pygments_lexer": "ipython3",
   "version": "3.11.5"
  }
 },
 "nbformat": 4,
 "nbformat_minor": 2
}
