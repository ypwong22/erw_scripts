{
 "cells": [
  {
   "cell_type": "code",
   "execution_count": 2,
   "metadata": {},
   "outputs": [],
   "source": [
    "import geopandas as gpd\n",
    "import os\n",
    "import fiona\n",
    "\n",
    "mapunit = '459259' # UC-Davis's mapunit\n",
    "#gdb_path = os.path.join(os.environ['PROJDIR'], 'DATA', 'Soil_Properties', 'gNATSGO', \n",
    "#                        'gNATSGO_CA.gdb')\n",
    "\n",
    "mapunit = '665220' # HBR's mapunit\n",
    "gdb_path = os.path.join(os.environ['PROJDIR'], 'DATA', 'Soil_Properties', 'gNATSGO',\n",
    "                        'gNATSGO_NH.gdb')"
   ]
  },
  {
   "cell_type": "code",
   "execution_count": null,
   "metadata": {},
   "outputs": [],
   "source": [
    "\n",
    "layers = fiona.listlayers(gdb_path)\n",
    "\n",
    "# load a specific layer by name\n",
    "component_table = gpd.read_file(gdb_path, layer='component')\n",
    "component = component_table.loc[component_table['mukey'] == mapunit, 'cokey'].drop_duplicates()\n",
    "chorizon_table = gpd.read_file(gdb_path, layer='chorizon')\n",
    "result = chorizon_table.loc[chorizon_table['cokey'].isin(list(component)),\n",
    "                            ['cec7_r', 'ecec_r', 'sumbases_r', 'extracid_r', 'extral_r']]"
   ]
  },
  {
   "cell_type": "markdown",
   "metadata": {},
   "source": [
    "UC-Davis outcome\n",
    "\n",
    "In [22]: result\n",
    "Out[22]:\n",
    "       cec7_r  ecec_r  sumbases_r  extracid_r  extral_r\n",
    "80566     8.8     NaN        10.3         0.4       NaN\n",
    "80567     9.6     NaN         9.5         2.4       NaN\n",
    "\n",
    "HBR outcome\n",
    "\n",
    "In [15]: result.dropna(axis = 1, how = 'all').dropna(axis = 0, how = 'all')\n",
    "Out[15]:\n",
    "       cec7_r  ecec_r\n",
    "29645     NaN     3.9\n",
    "29646     NaN     7.9\n",
    "29647     NaN     2.2\n",
    "29648     2.6     NaN\n",
    "29649     NaN    35.0\n",
    "29650     NaN    10.0\n",
    "29651     7.1     NaN\n",
    "29653     NaN    35.0\n",
    "29654     NaN    10.0\n",
    "29655     7.1     NaN\n",
    "29660     NaN     1.4\n",
    "29661     3.8     NaN\n",
    "29662     3.7     NaN\n",
    "29666     2.8     NaN\n",
    "29667     2.7     NaN\n",
    "29668     0.8     NaN\n",
    "29669    12.7     NaN\n",
    "29672     NaN     3.9\n",
    "29673     NaN     7.9\n",
    "29674     NaN     2.2\n",
    "29675     2.6     NaN\n",
    "29676     4.5     NaN\n",
    "29677     3.6     NaN\n",
    "29678     1.6     NaN\n",
    "29682     NaN    35.0\n",
    "29683     NaN    10.0\n",
    "29684     7.1     NaN\n",
    "29695     NaN     3.9\n",
    "29696     NaN     7.9\n",
    "29697     NaN     2.2\n",
    "29698     2.6     NaN\n",
    "29699     NaN     4.1\n",
    "29700     NaN     5.3\n",
    "29701     4.4     NaN\n",
    "29702     NaN     7.7\n",
    "29703     NaN     7.7"
   ]
  }
 ],
 "metadata": {
  "kernelspec": {
   "display_name": "Python 3",
   "language": "python",
   "name": "python3"
  },
  "language_info": {
   "codemirror_mode": {
    "name": "ipython",
    "version": 3
   },
   "file_extension": ".py",
   "mimetype": "text/x-python",
   "name": "python",
   "nbconvert_exporter": "python",
   "pygments_lexer": "ipython3",
   "version": "3.8.6"
  }
 },
 "nbformat": 4,
 "nbformat_minor": 2
}
