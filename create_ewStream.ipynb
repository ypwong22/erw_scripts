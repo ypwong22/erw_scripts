{
 "cells": [
  {
   "cell_type": "code",
   "execution_count": 2,
   "metadata": {},
   "outputs": [],
   "source": [
    "\"\"\" Create a meshgrid for which two lat & lon can be created for Hubbard Brook that are within \n",
    "    the same aerosol deposition grids. \n",
    "\"\"\"\n",
    "import xarray as xr\n",
    "import matplotlib.pyplot as plt\n",
    "import cartopy.crs as ccrs\n",
    "import numpy as np"
   ]
  },
  {
   "cell_type": "code",
   "execution_count": 3,
   "metadata": {},
   "outputs": [
    {
     "data": {
      "image/png": "[encoded data removed]",
      "text/plain": [
       "<Figure size 1000x1000 with 1 Axes>"
      ]
     },
     "metadata": {},
     "output_type": "display_data"
    }
   ],
   "source": [
    "\"\"\" Check if the selected locations for the \"upland\" site (\"watershed_mean\")\n",
    "    and the \"lowland\" site (\"watershed_shifted\") safely resides in the same\n",
    "    meteorological grid (0.5x0.5) and land surface grid (0.9x1.25), but \n",
    "    different 1km grids. \n",
    "\"\"\"\n",
    "lon_bigger = np.arange(0, 360, 2.5)\n",
    "lat_bigger = np.linspace(-90, 90, 96)\n",
    "\n",
    "lon_smaller = np.arange(-179.75, 179.76, 0.5)\n",
    "lat_smaller = np.arange(-89.75, 89.76, 0.5)\n",
    "\n",
    "lon_25km = np.linspace(-180, 180, 1441)\n",
    "lat_25km = np.linspace(-90, 90, 721)\n",
    "\n",
    "watershed = [-71.731339, -71.726311, 43.959286, 43.952053]\n",
    "watershed_mean = (-71.728825, 43.9556695)\n",
    "watershed_shifted = (-71.728825 + 0.25, 43.9556695)\n",
    "\n",
    "bbox = [-72.5, -71, 43.5, 44.5]\n",
    "\n",
    "fig = plt.figure(figsize=(10, 10))\n",
    "ax = fig.add_subplot(1, 1, 1, projection=ccrs.PlateCarree())\n",
    "ax.coastlines()\n",
    "\n",
    "for lat,lon in zip(lat_25km, lon_25km):\n",
    "    if (lat >= bbox[2]) & (lat <= bbox[3]):\n",
    "        ax.axhline(lat, color = 'magenta', lw = 1)\n",
    "    if (lon >= bbox[0]) & (lon <= bbox[1]):\n",
    "        ax.axvline(lon, color = 'magenta', lw = 1)\n",
    "\n",
    "for lat,lon in zip(lat_smaller, lon_smaller):\n",
    "    if (lat >= bbox[2]) & (lat <= bbox[3]):\n",
    "        ax.axhline(lat, color = 'g', lw = 1)\n",
    "    if (lon >= bbox[0]) & (lon <= bbox[1]):\n",
    "        ax.axvline(lon, color = 'g', lw = 1)\n",
    "\n",
    "for lat,lon in zip(lat_bigger, lon_bigger):\n",
    "    if (lat >= bbox[2]) & (lat <= bbox[3]):\n",
    "        ax.axhline(lat, color = 'b', lw = 1)\n",
    "    if (lon >= bbox[0]) & (lon <= bbox[1]):\n",
    "        ax.axvline(lon, color = 'b', lw = 1)\n",
    "\n",
    "watershed_box = [watershed[0], watershed[1], watershed[1], watershed[0], watershed[0]],\\\n",
    "                [watershed[2], watershed[2], watershed[3], watershed[3], watershed[2]]\n",
    "ax.plot(*watershed_box, color='red', linewidth=2, transform=ccrs.PlateCarree())\n",
    "\n",
    "ax.scatter(*watershed_mean, color = 'cyan', s = 10, marker = '*')\n",
    "ax.scatter(*watershed_shifted, color = 'cyan', s = 10, marker = '*')\n",
    "\n",
    "ax.set_extent(bbox, crs=ccrs.PlateCarree())"
   ]
  },
  {
   "cell_type": "code",
   "execution_count": 4,
   "metadata": {},
   "outputs": [],
   "source": [
    "\"\"\" Create the 1km grid for enhanced weathering file\n",
    "\"\"\"\n",
    "time = xr.cftime_range(start='1998', end='2025', freq='1Y', calendar='noleap')\n",
    "\n",
    "dims = ('time', 'lat', 'lon')\n",
    "coords = [time, lat_25km, lon_25km]\n",
    "year = xr.DataArray(time.year, dims='time')\n",
    "\n",
    "ds = xr.Dataset({\n",
    "    'ew_app': xr.DataArray(np.nan, coords, dims).astype(np.float32),\n",
    "    'ew_min_1': xr.DataArray(np.nan, coords, dims).astype(np.float32),\n",
    "    'ew_min_2': xr.DataArray(np.nan, coords, dims).astype(np.float32),\n",
    "    'ew_min_3': xr.DataArray(np.nan, coords, dims).astype(np.float32),\n",
    "    'ew_min_4': xr.DataArray(np.nan, coords, dims).astype(np.float32),\n",
    "    'ew_min_5': xr.DataArray(np.nan, coords, dims).astype(np.float32),\n",
    "    'ew_pho': xr.DataArray(np.nan, coords, dims).astype(np.float32),\n",
    "    'ew_gra': xr.DataArray(np.nan, coords, dims).astype(np.float32),\n",
    "    'ew_sph': xr.DataArray(np.nan, coords, dims).astype(np.float32),\n",
    "    'ew_pct_crop': xr.DataArray(np.nan, coords, dims).astype(np.float32), \n",
    "    'YEAR': year\n",
    "}, coords={'time': time, 'lat': lat_25km, 'lon': lon_25km})\n",
    "\n",
    "ds['ew_app'].attrs = {\n",
    "    'long_name': 'application rate of the rock powder',\n",
    "    'unit': 'kg m-2 yr-1'\n",
    "}\n",
    "for i in range(1, 6):\n",
    "    ds[f'ew_min_{i}'].attrs = {\n",
    "        'long_name': f'percentage of mineral {i}',\n",
    "        'units': '%'\n",
    "    }\n",
    "ds['ew_pho'].attrs = {\n",
    "    'long_name': 'phosphorus content of the rock powder', \n",
    "    'units': 'gP kg-1'\n",
    "}\n",
    "ds['ew_gra'].attrs = {\n",
    "    'long_name': 'grain size of the rock powder',\n",
    "    'units': 'um'\n",
    "}\n",
    "ds['ew_sph'].attrs = {\n",
    "    'long_name': 'soil pH if known', \n",
    "    'units': ''\n",
    "}\n",
    "ds['ew_pct_crop'].attrs = {\n",
    "    'long_name': 'Percent applied on crop column; the rest is on natural vegetation column', \n",
    "    'units': '%'\n",
    "}\n",
    "ds['YEAR'].attrs = {\n",
    "    'long_name': 'year',\n",
    "    'units': 'Year AD'\n",
    "}\n",
    "ds['lat'].attrs = {\n",
    "    'long_name': 'latitude', \n",
    "    'units': 'degrees north'\n",
    "}\n",
    "ds['lon'].attrs = {\n",
    "    'long_name': 'longitude',\n",
    "    'units': 'degrees east'\n",
    "}\n",
    "\n",
    "\n",
    "# insert the values\n",
    "for (lon, lat) in [watershed_mean, watershed_shifted]:\n",
    "    ind_year = np.argmin(np.abs(ds['YEAR'].values - 1999))\n",
    "    lon_idx = np.argmin(np.abs(ds['lon'].values - lon))\n",
    "    lat_idx = np.argmin(np.abs(ds['lat'].values - lat))\n",
    "\n",
    "    # 55 tons / 11.8 ha = 0.466 kg / m2\n",
    "    ds['ew_app'][:ind_year, lat_idx, lon_idx] = 0\n",
    "    ds['ew_app'][ind_year, lat_idx, lon_idx] = 0.466\n",
    "    ds['ew_app'][(ind_year+1):, lat_idx, lon_idx] = 0\n",
    "\n",
    "    ds['ew_min_1'][:, lat_idx, lon_idx] = 100. # wollastonite, completely\n",
    "\n",
    "    ds['ew_pho'][:, lat_idx, lon_idx] = 0 # no P\n",
    "\n",
    "    ds['ew_gra'][:, lat_idx, lon_idx] = 9.6 # 9.6 um\n",
    "\n",
    "    ds['ew_sph'][:ind_year, lat_idx, lon_idx] = 3.5\n",
    "    ds['ew_sph'][ind_year, lat_idx, lon_idx] = 4.5 # soil pH after application\n",
    "    ds['ew_sph'][(ind_year+1):, lat_idx, lon_idx] = 4.5\n",
    "\n",
    "for var in ds.variables:\n",
    "    if var in ['YEAR', 'time', 'lat', 'lon']:\n",
    "        ds[var].encoding['_FillValue'] = None\n",
    "    elif ds[var].dtype == np.float32:\n",
    "        ds[var].encoding['_FillValue'] = 1e20\n",
    "\n",
    "ds.to_netcdf('../data/ew_clm_hist_simyr1999_0.25x0.25_c150929.nc', format = 'NETCDF3_CLASSIC')"
   ]
  },
  {
   "cell_type": "code",
   "execution_count": 5,
   "metadata": {},
   "outputs": [
    {
     "data": {
      "text/plain": [
       "(-71.728825, 43.9556695)"
      ]
     },
     "execution_count": 5,
     "metadata": {},
     "output_type": "execute_result"
    }
   ],
   "source": [
    "watershed_mean"
   ]
  },
  {
   "cell_type": "code",
   "execution_count": 6,
   "metadata": {},
   "outputs": [
    {
     "data": {
      "text/plain": [
       "(-71.478825, 43.9556695)"
      ]
     },
     "execution_count": 6,
     "metadata": {},
     "output_type": "execute_result"
    },
    {
     "ename": "",
     "evalue": "",
     "output_type": "error",
     "traceback": [
      "\u001b[1;31mThe Kernel crashed while executing code in the the current cell or a previous cell. Please review the code in the cell(s) to identify a possible cause of the failure. Click <a href='https://aka.ms/vscodeJupyterKernelCrash'>here</a> for more info. View Jupyter <a href='command:jupyter.viewOutput'>log</a> for further details."
     ]
    }
   ],
   "source": [
    "watershed_shifted"
   ]
  }
 ],
 "metadata": {
  "kernelspec": {
   "display_name": "eli",
   "language": "python",
   "name": "python3"
  },
  "language_info": {
   "codemirror_mode": {
    "name": "ipython",
    "version": 3
   },
   "file_extension": ".py",
   "mimetype": "text/x-python",
   "name": "python",
   "nbconvert_exporter": "python",
   "pygments_lexer": "ipython3",
   "version": "3.11.5"
  }
 },
 "nbformat": 4,
 "nbformat_minor": 2
}
